{
 "cells": [
  {
   "cell_type": "code",
   "execution_count": null,
   "metadata": {
    "vscode": {
     "languageId": "plaintext"
    }
   },
   "outputs": [],
   "source": []
  },
  {
   "cell_type": "markdown",
   "metadata": {},
   "source": [
    "<table>\n",
    "      <thead>\n",
    "            <tr>\n",
    "                  <th>Text</th>\n",
    "                  <th>Label</th>\n",
    "            </tr>\n",
    "      </thead>\n",
    "      <tbody>\n",
    "            <tr>\n",
    "                  <td>\"This document authorizes person A to act on...\"</td>\n",
    "                  <td>1</td>\n",
    "                  </tr><tr>\n",
    "                  <td>\"In this agreement, we stipulate that...\"</td>\n",
    "                  <td>0</td>\n",
    "                  </tr><tr>\n",
    "                  <td>\"I, the undersigned, grant power of attorney...\"</td>\n",
    "                  <td>1</td>\n",
    "                  </tr><tr>\n",
    "                  <td>\"This contract outlines the terms and conditions...\"</td>\n",
    "                  <td>0</td>\n",
    "                  </tr><tr>\n",
    "                  <td>...</td>\n",
    "                  <td>...</td>\n",
    "            </tr>\n",
    "      </tbody>\n",
    "</table>"
   ]
  }
 ],
 "metadata": {
  "language_info": {
   "name": "python"
  }
 },
 "nbformat": 4,
 "nbformat_minor": 2
}
