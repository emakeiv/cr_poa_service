{
 "cells": [
  {
   "cell_type": "code",
   "execution_count": 2,
   "metadata": {},
   "outputs": [],
   "source": [
    "import spacy\n",
    "from spacy import displacy\n",
    "nlp_lt = spacy.load(\"lt_core_news_md\")"
   ]
  },
  {
   "cell_type": "code",
   "execution_count": 3,
   "metadata": {},
   "outputs": [],
   "source": [
    "doc = nlp_lt(\"ŽK\\n\\n \\n\\nKAUNO MIESTO 13-ASIS NOTARŲ BIURAS\\nKęstučio g Nr.35-5, LT-44307, Kaunas, teL42-30-61,32-16-67. El.paštas:\\n\\n \\n\\nĮGALIOJIMAS\\n\\nKaunas, du tūkstančiai dvidešimt ketvirtųjų metų sausio mėnesio penktoji diena.\\n\\nAš, (asmens kodas pasas , išduotas\\nJ\\ngyv.\\nįgalioju ALL (asmens kodas: |\\n8yv. <\\n\\nsavo nuožiūra:\\ntstovauti man Valstybės įmonėje Registrų centras, Savivaldybėje, Statybos inspekcijoje,\\nNacionalinėje žemės tamyboje ir visose kitose įmonėse, įstaigose, organizacijose dėl projektų\\nrengimo ir patvirtinimo, dokumentų bei dokumentacijos paruošimo man“ nuosavybės teise\\npriklausančio nekilnojamojo turto, esančio\\n\\nrekonstrukcijai, statybai ir/ar nugriovimui, reikalui esant keisti statinio pagrindinę naudojimo\\npaskirį, sujungti butus, suformuojant vieną turtinį vienetą, tuo tikslu gauti ir/ar pateikti\\natitinkamoms įstaigoms ir organizacijoms reikiamas pažymas bei kitus dokumentus, pauti\\nreikiamus leidimus, sąlygas, projektus ir visą kitą dokumentaciją, įkelti duomenis į informacinę\\nsistemą, juos derinti ir koreguoti, gauti išvadas bei suderinimus, technines sąlygas, atstovauti man\\ndėl elektros energijos, dujų, vandentiekio, lietaus ir kanalizacijos įvadų įrengimo ir tinklų\\nprijungimo, sudaryti sutartis su šių paslaugų tiekėjais, keisti sutarčių sąlygas ar jas nutraukti, mano\\nvardu pasirašyti | statinių pripažinimo aktus arba deklaracijas apie statybų užbaigimą, atlikti\\nkadastrinius matavimus, juos įregistruoti Valstybės įmonėje Registrų centras, gauti nuosavybės\\ndokumentus;\\n\\n- atstovauti man visose įmonėse, įstaigose ir organizacijose dėl man nuosavybės teise\\npriklausančio nekilnojamojo turto eksploatavimo, šilumos, elektros energijos, dujų, komunalinių\\npatarnavimų, daugiakanalės abonentinės televizijos paslaugų, ryšių paslaugų ir visų kitų paslaugų\\ntiekimo, savo nuožiūra laikinai sustabdyti, nutraukti ar sudaryti sutartis su šių paslaugų tiekėjais,\\napdrausti turtą, sumokėti draudimo įmokas ir gauti draudimo išmokas;\\n\\n- atstovauti atliekant man nuosavybės teise priklausančio žemės sklypo, esančio Kauno r\\n\\nkadastrinius matavimus ir nustatant bei paženklinant jo ribas,\\npasirašyti mano vardu žemės sklypų matavimo ir ribų ženklinimo aktuose bei žemės sklypų\\nplanuose, įregistruoti Valstybės įmonėje Registrų centras, gauti nuosavybės dokumentus;\\n\\n- tais tikslais atstovauti man visose įmonėse, įstaigose ir organizacijose, pateikti ir gauti iš\\nvisų įmonių, įstaigų ir organizacijų visus tam reikalingus dokumentus, pažymas, pažymėjimus,\\nleidimus, sutikimus, sprendimus, dublikatus, gauti informaciją, rašyti mano vardu pareiškimus, už\\nmane pasirašyti ir alikti visus kitus veiksmus, susijusius su šiuo pavedimu.\\n\\nĮgaliojimas galioja iki du tūkstančiai trisdešimt ketvirtųjų metų sausio mėnesio\\npenktosios dienos.\")"
   ]
  },
  {
   "cell_type": "code",
   "execution_count": 4,
   "metadata": {},
   "outputs": [
    {
     "name": "stdout",
     "output_type": "stream",
     "text": [
      "Kęstučio g Nr.35-5 42 60 LOC\n",
      "Kaunas 72 78 LOC\n",
      "Kaunas 130 136 LOC\n",
      "sausio mėnesio 179 193 TIME\n",
      "Valstybės įmonėje 320 337 ORG\n",
      "Registrų centras 338 354 ORG\n",
      "Registrų centras 1447 1463 ORG\n",
      "Kauno r\n",
      "\n",
      " 2027 2036 LOC\n",
      "Registrų centras 2228 2244 ORG\n",
      "sausio mėnesio 2708 2722 TIME\n"
     ]
    }
   ],
   "source": [
    "for ent in doc.ents:\n",
    "    print(ent.text, ent.start_char, ent.end_char, ent.label_)"
   ]
  },
  {
   "cell_type": "code",
   "execution_count": 5,
   "metadata": {},
   "outputs": [
    {
     "data": {
      "text/html": [
       "<span class=\"tex2jax_ignore\"><div class=\"entities\" style=\"line-height: 2.5; direction: ltr\">ŽK<br><br> <br><br>KAUNO MIESTO 13-ASIS NOTARŲ BIURAS<br>\n",
       "<mark class=\"entity\" style=\"background: #ff9561; padding: 0.45em 0.6em; margin: 0 0.25em; line-height: 1; border-radius: 0.35em;\">\n",
       "    Kęstučio g Nr.35-5\n",
       "    <span style=\"font-size: 0.8em; font-weight: bold; line-height: 1; border-radius: 0.35em; vertical-align: middle; margin-left: 0.5rem\">LOC</span>\n",
       "</mark>\n",
       ", LT-44307, \n",
       "<mark class=\"entity\" style=\"background: #ff9561; padding: 0.45em 0.6em; margin: 0 0.25em; line-height: 1; border-radius: 0.35em;\">\n",
       "    Kaunas\n",
       "    <span style=\"font-size: 0.8em; font-weight: bold; line-height: 1; border-radius: 0.35em; vertical-align: middle; margin-left: 0.5rem\">LOC</span>\n",
       "</mark>\n",
       ", teL42-30-61,32-16-67. El.paštas:<br><br> <br><br>ĮGALIOJIMAS<br><br>\n",
       "<mark class=\"entity\" style=\"background: #ff9561; padding: 0.45em 0.6em; margin: 0 0.25em; line-height: 1; border-radius: 0.35em;\">\n",
       "    Kaunas\n",
       "    <span style=\"font-size: 0.8em; font-weight: bold; line-height: 1; border-radius: 0.35em; vertical-align: middle; margin-left: 0.5rem\">LOC</span>\n",
       "</mark>\n",
       ", du tūkstančiai dvidešimt ketvirtųjų metų \n",
       "<mark class=\"entity\" style=\"background: #bfe1d9; padding: 0.45em 0.6em; margin: 0 0.25em; line-height: 1; border-radius: 0.35em;\">\n",
       "    sausio mėnesio\n",
       "    <span style=\"font-size: 0.8em; font-weight: bold; line-height: 1; border-radius: 0.35em; vertical-align: middle; margin-left: 0.5rem\">TIME</span>\n",
       "</mark>\n",
       " penktoji diena.<br><br>Aš, (asmens kodas pasas , išduotas<br>J<br>gyv.<br>įgalioju ALL (asmens kodas: |<br>8yv. &lt;<br><br>savo nuožiūra:<br>tstovauti man \n",
       "<mark class=\"entity\" style=\"background: #7aecec; padding: 0.45em 0.6em; margin: 0 0.25em; line-height: 1; border-radius: 0.35em;\">\n",
       "    Valstybės įmonėje\n",
       "    <span style=\"font-size: 0.8em; font-weight: bold; line-height: 1; border-radius: 0.35em; vertical-align: middle; margin-left: 0.5rem\">ORG</span>\n",
       "</mark>\n",
       " \n",
       "<mark class=\"entity\" style=\"background: #7aecec; padding: 0.45em 0.6em; margin: 0 0.25em; line-height: 1; border-radius: 0.35em;\">\n",
       "    Registrų centras\n",
       "    <span style=\"font-size: 0.8em; font-weight: bold; line-height: 1; border-radius: 0.35em; vertical-align: middle; margin-left: 0.5rem\">ORG</span>\n",
       "</mark>\n",
       ", Savivaldybėje, Statybos inspekcijoje,<br>Nacionalinėje žemės tamyboje ir visose kitose įmonėse, įstaigose, organizacijose dėl projektų<br>rengimo ir patvirtinimo, dokumentų bei dokumentacijos paruošimo man“ nuosavybės teise<br>priklausančio nekilnojamojo turto, esančio<br><br>rekonstrukcijai, statybai ir/ar nugriovimui, reikalui esant keisti statinio pagrindinę naudojimo<br>paskirį, sujungti butus, suformuojant vieną turtinį vienetą, tuo tikslu gauti ir/ar pateikti<br>atitinkamoms įstaigoms ir organizacijoms reikiamas pažymas bei kitus dokumentus, pauti<br>reikiamus leidimus, sąlygas, projektus ir visą kitą dokumentaciją, įkelti duomenis į informacinę<br>sistemą, juos derinti ir koreguoti, gauti išvadas bei suderinimus, technines sąlygas, atstovauti man<br>dėl elektros energijos, dujų, vandentiekio, lietaus ir kanalizacijos įvadų įrengimo ir tinklų<br>prijungimo, sudaryti sutartis su šių paslaugų tiekėjais, keisti sutarčių sąlygas ar jas nutraukti, mano<br>vardu pasirašyti | statinių pripažinimo aktus arba deklaracijas apie statybų užbaigimą, atlikti<br>kadastrinius matavimus, juos įregistruoti Valstybės įmonėje \n",
       "<mark class=\"entity\" style=\"background: #7aecec; padding: 0.45em 0.6em; margin: 0 0.25em; line-height: 1; border-radius: 0.35em;\">\n",
       "    Registrų centras\n",
       "    <span style=\"font-size: 0.8em; font-weight: bold; line-height: 1; border-radius: 0.35em; vertical-align: middle; margin-left: 0.5rem\">ORG</span>\n",
       "</mark>\n",
       ", gauti nuosavybės<br>dokumentus;<br><br>- atstovauti man visose įmonėse, įstaigose ir organizacijose dėl man nuosavybės teise<br>priklausančio nekilnojamojo turto eksploatavimo, šilumos, elektros energijos, dujų, komunalinių<br>patarnavimų, daugiakanalės abonentinės televizijos paslaugų, ryšių paslaugų ir visų kitų paslaugų<br>tiekimo, savo nuožiūra laikinai sustabdyti, nutraukti ar sudaryti sutartis su šių paslaugų tiekėjais,<br>apdrausti turtą, sumokėti draudimo įmokas ir gauti draudimo išmokas;<br><br>- atstovauti atliekant man nuosavybės teise priklausančio žemės sklypo, esančio \n",
       "<mark class=\"entity\" style=\"background: #ff9561; padding: 0.45em 0.6em; margin: 0 0.25em; line-height: 1; border-radius: 0.35em;\">\n",
       "    Kauno r\n",
       "\n",
       "\n",
       "    <span style=\"font-size: 0.8em; font-weight: bold; line-height: 1; border-radius: 0.35em; vertical-align: middle; margin-left: 0.5rem\">LOC</span>\n",
       "</mark>\n",
       "kadastrinius matavimus ir nustatant bei paženklinant jo ribas,<br>pasirašyti mano vardu žemės sklypų matavimo ir ribų ženklinimo aktuose bei žemės sklypų<br>planuose, įregistruoti Valstybės įmonėje \n",
       "<mark class=\"entity\" style=\"background: #7aecec; padding: 0.45em 0.6em; margin: 0 0.25em; line-height: 1; border-radius: 0.35em;\">\n",
       "    Registrų centras\n",
       "    <span style=\"font-size: 0.8em; font-weight: bold; line-height: 1; border-radius: 0.35em; vertical-align: middle; margin-left: 0.5rem\">ORG</span>\n",
       "</mark>\n",
       ", gauti nuosavybės dokumentus;<br><br>- tais tikslais atstovauti man visose įmonėse, įstaigose ir organizacijose, pateikti ir gauti iš<br>visų įmonių, įstaigų ir organizacijų visus tam reikalingus dokumentus, pažymas, pažymėjimus,<br>leidimus, sutikimus, sprendimus, dublikatus, gauti informaciją, rašyti mano vardu pareiškimus, už<br>mane pasirašyti ir alikti visus kitus veiksmus, susijusius su šiuo pavedimu.<br><br>Įgaliojimas galioja iki du tūkstančiai trisdešimt ketvirtųjų metų \n",
       "<mark class=\"entity\" style=\"background: #bfe1d9; padding: 0.45em 0.6em; margin: 0 0.25em; line-height: 1; border-radius: 0.35em;\">\n",
       "    sausio mėnesio\n",
       "    <span style=\"font-size: 0.8em; font-weight: bold; line-height: 1; border-radius: 0.35em; vertical-align: middle; margin-left: 0.5rem\">TIME</span>\n",
       "</mark>\n",
       "<br>penktosios dienos.</div></span>"
      ],
      "text/plain": [
       "<IPython.core.display.HTML object>"
      ]
     },
     "metadata": {},
     "output_type": "display_data"
    }
   ],
   "source": [
    "displacy.render(doc, style=\"ent\")"
   ]
  },
  {
   "cell_type": "code",
   "execution_count": null,
   "metadata": {},
   "outputs": [],
   "source": []
  }
 ],
 "metadata": {
  "kernelspec": {
   "display_name": ".venv",
   "language": "python",
   "name": "python3"
  },
  "language_info": {
   "codemirror_mode": {
    "name": "ipython",
    "version": 3
   },
   "file_extension": ".py",
   "mimetype": "text/x-python",
   "name": "python",
   "nbconvert_exporter": "python",
   "pygments_lexer": "ipython3",
   "version": "3.8.0"
  }
 },
 "nbformat": 4,
 "nbformat_minor": 2
}
